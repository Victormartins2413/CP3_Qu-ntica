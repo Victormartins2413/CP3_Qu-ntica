{
  "cells": [
    {
      "cell_type": "markdown",
      "metadata": {
        "id": "N_W6ikMQw-eR"
      },
      "source": [
        "Construindo um Subtrador Completo Quântico com Python\n",
        "\n",
        "\n",
        "O objetivo desta tarefa é construir um circuito quântico para realizar a subtração de números binários utilizando o Qiskit Composer. A tarefa será dividida em duas partes:\n",
        "\n",
        "Parte 1: Construção do Circuito Quântico"
      ]
    },
    {
      "cell_type": "code",
      "execution_count": 8,
      "metadata": {
        "colab": {
          "base_uri": "https://localhost:8080/"
        },
        "id": "-QBYzow4w9uy",
        "outputId": "9e10352e-5d18-4476-c452-91e489e76166"
      },
      "outputs": [
        {
          "name": "stdout",
          "output_type": "stream",
          "text": [
            "Requirement already satisfied: qiskit in c:\\users\\victor\\appdata\\local\\programs\\python\\python312\\lib\\site-packages (1.1.0)\n",
            "Requirement already satisfied: rustworkx>=0.14.0 in c:\\users\\victor\\appdata\\local\\programs\\python\\python312\\lib\\site-packages (from qiskit) (0.14.2)\n",
            "Requirement already satisfied: numpy<3,>=1.17 in c:\\users\\victor\\appdata\\local\\programs\\python\\python312\\lib\\site-packages (from qiskit) (1.26.4)\n",
            "Requirement already satisfied: scipy>=1.5 in c:\\users\\victor\\appdata\\local\\programs\\python\\python312\\lib\\site-packages (from qiskit) (1.11.4)\n",
            "Requirement already satisfied: sympy>=1.3 in c:\\users\\victor\\appdata\\local\\programs\\python\\python312\\lib\\site-packages (from qiskit) (1.12)\n",
            "Requirement already satisfied: dill>=0.3 in c:\\users\\victor\\appdata\\local\\programs\\python\\python312\\lib\\site-packages (from qiskit) (0.3.8)\n",
            "Requirement already satisfied: python-dateutil>=2.8.0 in c:\\users\\victor\\appdata\\local\\programs\\python\\python312\\lib\\site-packages (from qiskit) (2.9.0.post0)\n",
            "Requirement already satisfied: stevedore>=3.0.0 in c:\\users\\victor\\appdata\\local\\programs\\python\\python312\\lib\\site-packages (from qiskit) (5.2.0)\n",
            "Requirement already satisfied: typing-extensions in c:\\users\\victor\\appdata\\local\\programs\\python\\python312\\lib\\site-packages (from qiskit) (4.11.0)\n",
            "Requirement already satisfied: symengine>=0.11 in c:\\users\\victor\\appdata\\local\\programs\\python\\python312\\lib\\site-packages (from qiskit) (0.11.0)\n",
            "Requirement already satisfied: six>=1.5 in c:\\users\\victor\\appdata\\local\\programs\\python\\python312\\lib\\site-packages (from python-dateutil>=2.8.0->qiskit) (1.16.0)\n",
            "Requirement already satisfied: pbr!=2.1.0,>=2.0.0 in c:\\users\\victor\\appdata\\local\\programs\\python\\python312\\lib\\site-packages (from stevedore>=3.0.0->qiskit) (6.0.0)\n",
            "Requirement already satisfied: mpmath>=0.19 in c:\\users\\victor\\appdata\\local\\programs\\python\\python312\\lib\\site-packages (from sympy>=1.3->qiskit) (1.3.0)\n"
          ]
        }
      ],
      "source": [
        "!pip install qiskit"
      ]
    },
    {
      "cell_type": "code",
      "execution_count": 9,
      "metadata": {
        "id": "nhGlp2GIgNiS"
      },
      "outputs": [],
      "source": [
        "from qiskit import QuantumCircuit, QuantumRegister, ClassicalRegister\n"
      ]
    },
    {
      "cell_type": "markdown",
      "metadata": {
        "id": "DCF88adexVoz"
      },
      "source": [
        "Definir o número de qubits:"
      ]
    },
    {
      "cell_type": "code",
      "execution_count": 10,
      "metadata": {
        "id": "tM6H5ZLnxWkj"
      },
      "outputs": [],
      "source": [
        "#num_qubits = 4  # 2 para os números binários e 2 para o resultado\n",
        "\n",
        "qreg = QuantumRegister(4, 'q')\n",
        "creg = ClassicalRegister(4, 'c')"
      ]
    },
    {
      "cell_type": "markdown",
      "metadata": {
        "id": "WeTPfZWIxaDL"
      },
      "source": [
        "Criar os registradores quânticos e clássicos:"
      ]
    },
    {
      "cell_type": "code",
      "execution_count": 11,
      "metadata": {
        "id": "7wZRDpWtxc-G"
      },
      "outputs": [],
      "source": [
        "#qreg = QuantumRegister(qreg, name=\"q\")\n",
        "#creg = ClassicalRegister(creg, name=\"c\")\n"
      ]
    },
    {
      "cell_type": "markdown",
      "metadata": {
        "id": "HVInFwZoxdoT"
      },
      "source": [
        "Criar o circuito quântico:"
      ]
    },
    {
      "cell_type": "code",
      "execution_count": 12,
      "metadata": {
        "id": "tZhjbzNRxe2o"
      },
      "outputs": [],
      "source": [
        "circuit = QuantumCircuit(qreg, creg)\n"
      ]
    },
    {
      "cell_type": "markdown",
      "metadata": {
        "id": "iMO4mNCAxuet"
      },
      "source": [
        "Adicionar as operações quânticas:"
      ]
    },
    {
      "cell_type": "code",
      "execution_count": 13,
      "metadata": {
        "colab": {
          "base_uri": "https://localhost:8080/"
        },
        "id": "C7cwtgcuxu4k",
        "outputId": "c782cc33-6d1a-4912-987b-b531d7fc7cd6"
      },
      "outputs": [
        {
          "data": {
            "text/plain": [
              "<qiskit.circuit.instructionset.InstructionSet at 0x1ea0f287ca0>"
            ]
          },
          "execution_count": 13,
          "metadata": {},
          "output_type": "execute_result"
        }
      ],
      "source": [
        "# Subtração binária\n",
        "#circuit.cx(q[0], q[2])\n",
        "#circuit.cx(q[1], q[3])  # B - (A - B)\n",
        "#circuit.cx(q[2])  # Complemento de (A - B)\n",
        "\n",
        "circuit.cx(qreg[0], qreg[2])\n",
        "circuit.cx(qreg[1], qreg[3])  # B - (A - B)\n",
        "circuit.cx(qreg[2], qreg[3])  # Complemento de (A - B)\n",
        "\n",
        "\n",
        "# Medição dos resultados\n",
        "circuit.measure(qreg, creg)\n"
      ]
    },
    {
      "cell_type": "markdown",
      "metadata": {
        "id": "amoFNFokx5NO"
      },
      "source": [
        "Visualizar o circuito quântico:"
      ]
    },
    {
      "cell_type": "code",
      "execution_count": 14,
      "metadata": {
        "colab": {
          "base_uri": "https://localhost:8080/",
          "height": 186
        },
        "id": "q7HX3Aaox5_z",
        "outputId": "8e96c720-481e-46f4-9970-5bfe48c01cc7"
      },
      "outputs": [
        {
          "data": {
            "text/html": [
              "<pre style=\"word-wrap: normal;white-space: pre;background: #fff0;line-height: 1.1;font-family: &quot;Courier New&quot;,Courier,monospace\">                    ┌─┐         \n",
              "q_0: ──■────────────┤M├─────────\n",
              "       │            └╥┘┌─┐      \n",
              "q_1: ──┼────■────────╫─┤M├──────\n",
              "     ┌─┴─┐  │        ║ └╥┘┌─┐   \n",
              "q_2: ┤ X ├──┼────■───╫──╫─┤M├───\n",
              "     └───┘┌─┴─┐┌─┴─┐ ║  ║ └╥┘┌─┐\n",
              "q_3: ─────┤ X ├┤ X ├─╫──╫──╫─┤M├\n",
              "          └───┘└───┘ ║  ║  ║ └╥┘\n",
              "c: 4/════════════════╩══╩══╩══╩═\n",
              "                     0  1  2  3 </pre>"
            ],
            "text/plain": [
              "                    ┌─┐         \n",
              "q_0: ──■────────────┤M├─────────\n",
              "       │            └╥┘┌─┐      \n",
              "q_1: ──┼────■────────╫─┤M├──────\n",
              "     ┌─┴─┐  │        ║ └╥┘┌─┐   \n",
              "q_2: ┤ X ├──┼────■───╫──╫─┤M├───\n",
              "     └───┘┌─┴─┐┌─┴─┐ ║  ║ └╥┘┌─┐\n",
              "q_3: ─────┤ X ├┤ X ├─╫──╫──╫─┤M├\n",
              "          └───┘└───┘ ║  ║  ║ └╥┘\n",
              "c: 4/════════════════╩══╩══╩══╩═\n",
              "                     0  1  2  3 "
            ]
          },
          "execution_count": 14,
          "metadata": {},
          "output_type": "execute_result"
        }
      ],
      "source": [
        "circuit.draw(interactive=False)\n"
      ]
    },
    {
      "cell_type": "markdown",
      "metadata": {
        "id": "7G_Syie3x7_G"
      },
      "source": [
        "Parte 2:\n",
        "\n",
        "Execução do Circuito Quântico\n",
        "\n",
        "Simular o circuito quântico:"
      ]
    },
    {
      "cell_type": "code",
      "execution_count": 15,
      "metadata": {
        "colab": {
          "base_uri": "https://localhost:8080/"
        },
        "id": "kfy2xJNM2Xjr",
        "outputId": "6ee8792d-1d64-4fa7-a84d-a307ef9f9f9a"
      },
      "outputs": [
        {
          "name": "stdout",
          "output_type": "stream",
          "text": [
            "Requirement already satisfied: qiskit-aer==0.14.1 in c:\\users\\victor\\appdata\\local\\programs\\python\\python312\\lib\\site-packages (0.14.1)\n",
            "Requirement already satisfied: qiskit>=0.45.0 in c:\\users\\victor\\appdata\\local\\programs\\python\\python312\\lib\\site-packages (from qiskit-aer==0.14.1) (1.1.0)\n",
            "Requirement already satisfied: numpy>=1.16.3 in c:\\users\\victor\\appdata\\local\\programs\\python\\python312\\lib\\site-packages (from qiskit-aer==0.14.1) (1.26.4)\n",
            "Requirement already satisfied: scipy>=1.0 in c:\\users\\victor\\appdata\\local\\programs\\python\\python312\\lib\\site-packages (from qiskit-aer==0.14.1) (1.11.4)\n",
            "Requirement already satisfied: psutil>=5 in c:\\users\\victor\\appdata\\local\\programs\\python\\python312\\lib\\site-packages (from qiskit-aer==0.14.1) (5.9.8)\n",
            "Requirement already satisfied: rustworkx>=0.14.0 in c:\\users\\victor\\appdata\\local\\programs\\python\\python312\\lib\\site-packages (from qiskit>=0.45.0->qiskit-aer==0.14.1) (0.14.2)\n",
            "Requirement already satisfied: sympy>=1.3 in c:\\users\\victor\\appdata\\local\\programs\\python\\python312\\lib\\site-packages (from qiskit>=0.45.0->qiskit-aer==0.14.1) (1.12)\n",
            "Requirement already satisfied: dill>=0.3 in c:\\users\\victor\\appdata\\local\\programs\\python\\python312\\lib\\site-packages (from qiskit>=0.45.0->qiskit-aer==0.14.1) (0.3.8)\n",
            "Requirement already satisfied: python-dateutil>=2.8.0 in c:\\users\\victor\\appdata\\local\\programs\\python\\python312\\lib\\site-packages (from qiskit>=0.45.0->qiskit-aer==0.14.1) (2.9.0.post0)\n",
            "Requirement already satisfied: stevedore>=3.0.0 in c:\\users\\victor\\appdata\\local\\programs\\python\\python312\\lib\\site-packages (from qiskit>=0.45.0->qiskit-aer==0.14.1) (5.2.0)\n",
            "Requirement already satisfied: typing-extensions in c:\\users\\victor\\appdata\\local\\programs\\python\\python312\\lib\\site-packages (from qiskit>=0.45.0->qiskit-aer==0.14.1) (4.11.0)\n",
            "Requirement already satisfied: symengine>=0.11 in c:\\users\\victor\\appdata\\local\\programs\\python\\python312\\lib\\site-packages (from qiskit>=0.45.0->qiskit-aer==0.14.1) (0.11.0)\n",
            "Requirement already satisfied: six>=1.5 in c:\\users\\victor\\appdata\\local\\programs\\python\\python312\\lib\\site-packages (from python-dateutil>=2.8.0->qiskit>=0.45.0->qiskit-aer==0.14.1) (1.16.0)\n",
            "Requirement already satisfied: pbr!=2.1.0,>=2.0.0 in c:\\users\\victor\\appdata\\local\\programs\\python\\python312\\lib\\site-packages (from stevedore>=3.0.0->qiskit>=0.45.0->qiskit-aer==0.14.1) (6.0.0)\n",
            "Requirement already satisfied: mpmath>=0.19 in c:\\users\\victor\\appdata\\local\\programs\\python\\python312\\lib\\site-packages (from sympy>=1.3->qiskit>=0.45.0->qiskit-aer==0.14.1) (1.3.0)\n"
          ]
        }
      ],
      "source": [
        "!pip install qiskit-aer==0.14.1\n"
      ]
    },
    {
      "cell_type": "code",
      "execution_count": 16,
      "metadata": {
        "colab": {
          "base_uri": "https://localhost:8080/",
          "height": 399
        },
        "id": "iSD2wfAQx8Y-",
        "outputId": "bdbc5aeb-dc2c-4c53-9c02-d39184ef84eb"
      },
      "outputs": [
        {
          "ename": "ImportError",
          "evalue": "cannot import name 'Aer' from 'qiskit' (c:\\Users\\Victor\\AppData\\Local\\Programs\\Python\\Python312\\Lib\\site-packages\\qiskit\\__init__.py)",
          "output_type": "error",
          "traceback": [
            "\u001b[1;31m---------------------------------------------------------------------------\u001b[0m",
            "\u001b[1;31mImportError\u001b[0m                               Traceback (most recent call last)",
            "Cell \u001b[1;32mIn[16], line 1\u001b[0m\n\u001b[1;32m----> 1\u001b[0m \u001b[38;5;28;01mfrom\u001b[39;00m \u001b[38;5;21;01mqiskit\u001b[39;00m \u001b[38;5;28;01mimport\u001b[39;00m Aer\n\u001b[0;32m      3\u001b[0m backend \u001b[38;5;241m=\u001b[39m Aer\u001b[38;5;241m.\u001b[39mget_backend(\u001b[38;5;124m\"\u001b[39m\u001b[38;5;124mqasm_simulator\u001b[39m\u001b[38;5;124m\"\u001b[39m)\n\u001b[0;32m      4\u001b[0m job \u001b[38;5;241m=\u001b[39m backend\u001b[38;5;241m.\u001b[39mrun(circuit)\n",
            "\u001b[1;31mImportError\u001b[0m: cannot import name 'Aer' from 'qiskit' (c:\\Users\\Victor\\AppData\\Local\\Programs\\Python\\Python312\\Lib\\site-packages\\qiskit\\__init__.py)"
          ]
        }
      ],
      "source": [
        "from qiskit import Aer\n",
        "\n",
        "backend = Aer.get_backend(\"qasm_simulator\")\n",
        "job = backend.run(circuit)\n",
        "result = job.result().get_counts()\n"
      ]
    },
    {
      "cell_type": "markdown",
      "metadata": {
        "id": "gF5B-_Y6yFX_"
      },
      "source": [
        "Imprimir os resultados:"
      ]
    },
    {
      "cell_type": "code",
      "execution_count": null,
      "metadata": {
        "id": "rdd5awpjyF7E"
      },
      "outputs": [],
      "source": [
        "for key, value in result.items():\n",
        "    print(f\"{key}: {value}\")\n"
      ]
    },
    {
      "cell_type": "markdown",
      "metadata": {
        "id": "4fSoZ63YyGNI"
      },
      "source": [
        "Exemplo de execução:"
      ]
    },
    {
      "cell_type": "code",
      "execution_count": null,
      "metadata": {
        "id": "lWcC_9YKyGjn"
      },
      "outputs": [],
      "source": [
        "import qiskit\n",
        "\n",
        "num_qubits = 4\n",
        "qreg = qiskit.QuantumRegister(num_qubits, name=\"q\")\n",
        "creg = qiskit.ClassicalRegister(num_qubits, name=\"c\")\n",
        "circuit = qiskit.QuantumCircuit(qreg, creg)\n",
        "\n",
        "# Subtração binária\n",
        "circuit.cx(q[0], q[2])\n",
        "circuit.cx(q[1], q[3])\n",
        "circuit.x(q[2])\n",
        "\n",
        "# Medição dos resultados\n",
        "circuit.measure(qreg, creg)\n",
        "\n",
        "# Simular o circuito quântico\n",
        "backend = qiskit.Aer.get_backend(\"qasm_simulator\")\n",
        "job = backend.run(circuit)\n",
        "result = job.result().get_counts()\n",
        "\n",
        "# Imprimir os resultados\n",
        "for key, value in result.items():\n",
        "    print(f\"{key}: {value}\")\n"
      ]
    },
    {
      "cell_type": "markdown",
      "metadata": {
        "id": "tXGmNB1qyRKn"
      },
      "source": [
        "Explicação do código:\n",
        "\n",
        "O código importa as bibliotecas necessárias para trabalhar com circuitos quânticos no Qiskit.\n",
        "____\n",
        "O número de qubits é definido como 4, sendo 2 para os números binários e 2 para o resultado da subtração.\n",
        "____\n",
        "Os registradores quânticos e clássicos são criados para armazenar os dados e as medidas, respectivamente.\n",
        "____\n",
        "O circuito quântico é criado usando os registradores.\n",
        "____\n",
        "As operações quânticas são adicionadas ao circuito para realizar a subtração binária.\n",
        "____\n",
        "O circuito quântico é visualizado para facilitar a compreensão da sua estrutura.\n",
        "____\n",
        "O circuito quântico é simulado para obter os resultados da subtração.\n",
        "Os resultados da subtração são impressos na tela.\n",
        "\n",
        "\n",
        "///\n",
        "\n",
        "Observações:\n",
        "\n",
        "Este código é um exemplo básico de como construir um subtrador completo quântico.\n",
        "O código pode ser modificado para trabalhar com números binários de diferentes tamanhos.\n",
        "O Qiskit Composer pode ser usado para visualizar o circuito quântico de forma interativa.\n",
        "\n",
        "\n",
        "///\n",
        "\n",
        "Recursos adicionais:\n",
        "\n",
        "Documentação do Qiskit: https://docs.quantum.ibm.com/\n",
        "Tutorial do Qiskit Composer: https://docs.quantum.ibm.com/build\n",
        "Exemplo de subtrador completo quântico no Qiskit Composer: https://quantum.ibm.com/composer\n",
        "\n",
        "\n",
        "///\n",
        "\n",
        "Conclusão:\n",
        "\n",
        "Esta tarefa demonstra como construir um circuito quântico para realizar a subtração de números binários utilizando o Qiskit. O código fornecido é um ponto de partida para explorar os recursos do Qiskit e construir circuitos quânticos mais complexos."
      ]
    },
    {
      "cell_type": "markdown",
      "metadata": {
        "id": "peID4Q6OzMrY"
      },
      "source": [
        "Nome:  \n",
        "\n",
        "Victor Hugo de Souza Martins\n",
        "___\n",
        "\n",
        "RM:\n",
        "\n",
        "99591\n",
        "___\n",
        "\n",
        "Turma:  \n",
        "\n",
        "2TIAR\n",
        "___\n",
        "Data de finalização do CP:\n",
        "\n",
        "23/05/2024\n",
        "___"
      ]
    }
  ],
  "metadata": {
    "colab": {
      "provenance": []
    },
    "kernelspec": {
      "display_name": "Python 3",
      "name": "python3"
    },
    "language_info": {
      "codemirror_mode": {
        "name": "ipython",
        "version": 3
      },
      "file_extension": ".py",
      "mimetype": "text/x-python",
      "name": "python",
      "nbconvert_exporter": "python",
      "pygments_lexer": "ipython3",
      "version": "3.12.2"
    }
  },
  "nbformat": 4,
  "nbformat_minor": 0
}
