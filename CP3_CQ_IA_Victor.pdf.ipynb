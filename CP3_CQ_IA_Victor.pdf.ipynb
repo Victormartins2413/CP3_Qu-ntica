{
  "cells": [
    {
      "cell_type": "markdown",
      "metadata": {
        "id": "N_W6ikMQw-eR"
      },
      "source": [
        "Construindo um Subtrador Completo Quântico com Python\n",
        "\n",
        "\n",
        "O objetivo desta tarefa é construir um circuito quântico para realizar a subtração de números binários utilizando o Qiskit Composer. A tarefa será dividida em duas partes:\n",
        "\n",
        "Parte 1: Construção do Circuito Quântico"
      ]
    },
    {
      "cell_type": "code",
      "execution_count": 2,
      "metadata": {
        "colab": {
          "base_uri": "https://localhost:8080/"
        },
        "id": "-QBYzow4w9uy",
        "outputId": "daf9804d-4432-4db7-97f6-358da58881c5"
      },
      "outputs": [
        {
          "output_type": "stream",
          "name": "stdout",
          "text": [
            "Collecting cirq\n",
            "  Downloading cirq-1.3.0-py3-none-any.whl (8.1 kB)\n",
            "Collecting cirq-aqt==1.3.0 (from cirq)\n",
            "  Downloading cirq_aqt-1.3.0-py3-none-any.whl (27 kB)\n",
            "Collecting cirq-core==1.3.0 (from cirq)\n",
            "  Downloading cirq_core-1.3.0-py3-none-any.whl (1.8 MB)\n",
            "\u001b[2K     \u001b[90m━━━━━━━━━━━━━━━━━━━━━━━━━━━━━━━━━━━━━━━━\u001b[0m \u001b[32m1.8/1.8 MB\u001b[0m \u001b[31m8.1 MB/s\u001b[0m eta \u001b[36m0:00:00\u001b[0m\n",
            "\u001b[?25hCollecting cirq-ft==1.3.0 (from cirq)\n",
            "  Downloading cirq_ft-1.3.0-py3-none-any.whl (143 kB)\n",
            "\u001b[2K     \u001b[90m━━━━━━━━━━━━━━━━━━━━━━━━━━━━━━━━━━━━━━━━\u001b[0m \u001b[32m143.1/143.1 kB\u001b[0m \u001b[31m12.8 MB/s\u001b[0m eta \u001b[36m0:00:00\u001b[0m\n",
            "\u001b[?25hCollecting cirq-google==1.3.0 (from cirq)\n",
            "  Downloading cirq_google-1.3.0-py3-none-any.whl (598 kB)\n",
            "\u001b[2K     \u001b[90m━━━━━━━━━━━━━━━━━━━━━━━━━━━━━━━━━━━━━━━━\u001b[0m \u001b[32m598.8/598.8 kB\u001b[0m \u001b[31m15.4 MB/s\u001b[0m eta \u001b[36m0:00:00\u001b[0m\n",
            "\u001b[?25hCollecting cirq-ionq==1.3.0 (from cirq)\n",
            "  Downloading cirq_ionq-1.3.0-py3-none-any.whl (60 kB)\n",
            "\u001b[2K     \u001b[90m━━━━━━━━━━━━━━━━━━━━━━━━━━━━━━━━━━━━━━━━\u001b[0m \u001b[32m60.9/60.9 kB\u001b[0m \u001b[31m8.6 MB/s\u001b[0m eta \u001b[36m0:00:00\u001b[0m\n",
            "\u001b[?25hCollecting cirq-pasqal==1.3.0 (from cirq)\n",
            "  Downloading cirq_pasqal-1.3.0-py3-none-any.whl (31 kB)\n",
            "Collecting cirq-rigetti==1.3.0 (from cirq)\n",
            "  Downloading cirq_rigetti-1.3.0-py3-none-any.whl (66 kB)\n",
            "\u001b[2K     \u001b[90m━━━━━━━━━━━━━━━━━━━━━━━━━━━━━━━━━━━━━━━━\u001b[0m \u001b[32m66.2/66.2 kB\u001b[0m \u001b[31m10.0 MB/s\u001b[0m eta \u001b[36m0:00:00\u001b[0m\n",
            "\u001b[?25hCollecting cirq-web==1.3.0 (from cirq)\n",
            "  Downloading cirq_web-1.3.0-py3-none-any.whl (596 kB)\n",
            "\u001b[2K     \u001b[90m━━━━━━━━━━━━━━━━━━━━━━━━━━━━━━━━━━━━━━━━\u001b[0m \u001b[32m596.5/596.5 kB\u001b[0m \u001b[31m16.4 MB/s\u001b[0m eta \u001b[36m0:00:00\u001b[0m\n",
            "\u001b[?25hRequirement already satisfied: requests~=2.18 in /usr/local/lib/python3.10/dist-packages (from cirq-aqt==1.3.0->cirq) (2.31.0)\n",
            "Collecting duet~=0.2.8 (from cirq-core==1.3.0->cirq)\n",
            "  Downloading duet-0.2.9-py3-none-any.whl (29 kB)\n",
            "Requirement already satisfied: matplotlib~=3.0 in /usr/local/lib/python3.10/dist-packages (from cirq-core==1.3.0->cirq) (3.7.1)\n",
            "Requirement already satisfied: networkx>=2.4 in /usr/local/lib/python3.10/dist-packages (from cirq-core==1.3.0->cirq) (3.3)\n",
            "Requirement already satisfied: numpy~=1.16 in /usr/local/lib/python3.10/dist-packages (from cirq-core==1.3.0->cirq) (1.25.2)\n",
            "Requirement already satisfied: pandas in /usr/local/lib/python3.10/dist-packages (from cirq-core==1.3.0->cirq) (2.0.3)\n",
            "Requirement already satisfied: sortedcontainers~=2.0 in /usr/local/lib/python3.10/dist-packages (from cirq-core==1.3.0->cirq) (2.4.0)\n",
            "Requirement already satisfied: scipy in /usr/local/lib/python3.10/dist-packages (from cirq-core==1.3.0->cirq) (1.11.4)\n",
            "Requirement already satisfied: sympy in /usr/local/lib/python3.10/dist-packages (from cirq-core==1.3.0->cirq) (1.12)\n",
            "Requirement already satisfied: typing-extensions>=4.2 in /usr/local/lib/python3.10/dist-packages (from cirq-core==1.3.0->cirq) (4.11.0)\n",
            "Requirement already satisfied: tqdm in /usr/local/lib/python3.10/dist-packages (from cirq-core==1.3.0->cirq) (4.66.4)\n",
            "Requirement already satisfied: attrs in /usr/local/lib/python3.10/dist-packages (from cirq-ft==1.3.0->cirq) (23.2.0)\n",
            "Requirement already satisfied: cachetools>=5.3 in /usr/local/lib/python3.10/dist-packages (from cirq-ft==1.3.0->cirq) (5.3.3)\n",
            "Requirement already satisfied: ipywidgets in /usr/local/lib/python3.10/dist-packages (from cirq-ft==1.3.0->cirq) (7.7.1)\n",
            "Requirement already satisfied: nbconvert in /usr/local/lib/python3.10/dist-packages (from cirq-ft==1.3.0->cirq) (6.5.4)\n",
            "Requirement already satisfied: nbformat in /usr/local/lib/python3.10/dist-packages (from cirq-ft==1.3.0->cirq) (5.10.4)\n",
            "Requirement already satisfied: google-api-core[grpc]>=1.14.0 in /usr/local/lib/python3.10/dist-packages (from cirq-google==1.3.0->cirq) (2.11.1)\n",
            "Requirement already satisfied: proto-plus>=1.20.0 in /usr/local/lib/python3.10/dist-packages (from cirq-google==1.3.0->cirq) (1.23.0)\n",
            "Requirement already satisfied: protobuf>=3.15.0 in /usr/local/lib/python3.10/dist-packages (from cirq-google==1.3.0->cirq) (3.20.3)\n",
            "Collecting pyquil<4.0.0,>=3.2.0 (from cirq-rigetti==1.3.0->cirq)\n",
            "  Downloading pyquil-3.5.4-py3-none-any.whl (223 kB)\n",
            "\u001b[2K     \u001b[90m━━━━━━━━━━━━━━━━━━━━━━━━━━━━━━━━━━━━━━━━\u001b[0m \u001b[32m223.8/223.8 kB\u001b[0m \u001b[31m19.6 MB/s\u001b[0m eta \u001b[36m0:00:00\u001b[0m\n",
            "\u001b[?25hRequirement already satisfied: googleapis-common-protos<2.0.dev0,>=1.56.2 in /usr/local/lib/python3.10/dist-packages (from google-api-core[grpc]>=1.14.0->cirq-google==1.3.0->cirq) (1.63.0)\n",
            "Requirement already satisfied: google-auth<3.0.dev0,>=2.14.1 in /usr/local/lib/python3.10/dist-packages (from google-api-core[grpc]>=1.14.0->cirq-google==1.3.0->cirq) (2.27.0)\n",
            "Requirement already satisfied: grpcio<2.0dev,>=1.33.2 in /usr/local/lib/python3.10/dist-packages (from google-api-core[grpc]>=1.14.0->cirq-google==1.3.0->cirq) (1.64.0)\n",
            "Requirement already satisfied: grpcio-status<2.0.dev0,>=1.33.2 in /usr/local/lib/python3.10/dist-packages (from google-api-core[grpc]>=1.14.0->cirq-google==1.3.0->cirq) (1.48.2)\n",
            "Requirement already satisfied: contourpy>=1.0.1 in /usr/local/lib/python3.10/dist-packages (from matplotlib~=3.0->cirq-core==1.3.0->cirq) (1.2.1)\n",
            "Requirement already satisfied: cycler>=0.10 in /usr/local/lib/python3.10/dist-packages (from matplotlib~=3.0->cirq-core==1.3.0->cirq) (0.12.1)\n",
            "Requirement already satisfied: fonttools>=4.22.0 in /usr/local/lib/python3.10/dist-packages (from matplotlib~=3.0->cirq-core==1.3.0->cirq) (4.51.0)\n",
            "Requirement already satisfied: kiwisolver>=1.0.1 in /usr/local/lib/python3.10/dist-packages (from matplotlib~=3.0->cirq-core==1.3.0->cirq) (1.4.5)\n",
            "Requirement already satisfied: packaging>=20.0 in /usr/local/lib/python3.10/dist-packages (from matplotlib~=3.0->cirq-core==1.3.0->cirq) (24.0)\n",
            "Requirement already satisfied: pillow>=6.2.0 in /usr/local/lib/python3.10/dist-packages (from matplotlib~=3.0->cirq-core==1.3.0->cirq) (9.4.0)\n",
            "Requirement already satisfied: pyparsing>=2.3.1 in /usr/local/lib/python3.10/dist-packages (from matplotlib~=3.0->cirq-core==1.3.0->cirq) (3.1.2)\n",
            "Requirement already satisfied: python-dateutil>=2.7 in /usr/local/lib/python3.10/dist-packages (from matplotlib~=3.0->cirq-core==1.3.0->cirq) (2.8.2)\n",
            "Collecting deprecated<2.0.0,>=1.2.13 (from pyquil<4.0.0,>=3.2.0->cirq-rigetti==1.3.0->cirq)\n",
            "  Downloading Deprecated-1.2.14-py2.py3-none-any.whl (9.6 kB)\n",
            "Collecting lark<0.12.0,>=0.11.1 (from pyquil<4.0.0,>=3.2.0->cirq-rigetti==1.3.0->cirq)\n",
            "  Downloading lark-0.11.3.tar.gz (229 kB)\n",
            "\u001b[2K     \u001b[90m━━━━━━━━━━━━━━━━━━━━━━━━━━━━━━━━━━━━━━━━\u001b[0m \u001b[32m229.9/229.9 kB\u001b[0m \u001b[31m18.6 MB/s\u001b[0m eta \u001b[36m0:00:00\u001b[0m\n",
            "\u001b[?25h  Preparing metadata (setup.py) ... \u001b[?25l\u001b[?25hdone\n",
            "Collecting qcs-api-client<0.22.0,>=0.21.0 (from pyquil<4.0.0,>=3.2.0->cirq-rigetti==1.3.0->cirq)\n",
            "  Downloading qcs_api_client-0.21.6-py3-none-any.whl (151 kB)\n",
            "\u001b[2K     \u001b[90m━━━━━━━━━━━━━━━━━━━━━━━━━━━━━━━━━━━━━━━━\u001b[0m \u001b[32m151.7/151.7 kB\u001b[0m \u001b[31m20.9 MB/s\u001b[0m eta \u001b[36m0:00:00\u001b[0m\n",
            "\u001b[?25hCollecting rpcq<4.0.0,>=3.10.0 (from pyquil<4.0.0,>=3.2.0->cirq-rigetti==1.3.0->cirq)\n",
            "  Downloading rpcq-3.11.0.tar.gz (45 kB)\n",
            "\u001b[2K     \u001b[90m━━━━━━━━━━━━━━━━━━━━━━━━━━━━━━━━━━━━━━━━\u001b[0m \u001b[32m45.6/45.6 kB\u001b[0m \u001b[31m6.5 MB/s\u001b[0m eta \u001b[36m0:00:00\u001b[0m\n",
            "\u001b[?25h  Preparing metadata (setup.py) ... \u001b[?25l\u001b[?25hdone\n",
            "Requirement already satisfied: tenacity<9.0.0,>=8.2.2 in /usr/local/lib/python3.10/dist-packages (from pyquil<4.0.0,>=3.2.0->cirq-rigetti==1.3.0->cirq) (8.3.0)\n",
            "Collecting types-deprecated<2.0.0.0,>=1.2.9.2 (from pyquil<4.0.0,>=3.2.0->cirq-rigetti==1.3.0->cirq)\n",
            "  Downloading types_Deprecated-1.2.9.20240311-py3-none-any.whl (3.5 kB)\n",
            "Collecting types-python-dateutil<3.0.0,>=2.8.19 (from pyquil<4.0.0,>=3.2.0->cirq-rigetti==1.3.0->cirq)\n",
            "  Downloading types_python_dateutil-2.9.0.20240316-py3-none-any.whl (9.7 kB)\n",
            "Collecting types-retry<0.10.0,>=0.9.9 (from pyquil<4.0.0,>=3.2.0->cirq-rigetti==1.3.0->cirq)\n",
            "  Downloading types_retry-0.9.9.4-py3-none-any.whl (2.5 kB)\n",
            "Requirement already satisfied: charset-normalizer<4,>=2 in /usr/local/lib/python3.10/dist-packages (from requests~=2.18->cirq-aqt==1.3.0->cirq) (3.3.2)\n",
            "Requirement already satisfied: idna<4,>=2.5 in /usr/local/lib/python3.10/dist-packages (from requests~=2.18->cirq-aqt==1.3.0->cirq) (3.7)\n",
            "Requirement already satisfied: urllib3<3,>=1.21.1 in /usr/local/lib/python3.10/dist-packages (from requests~=2.18->cirq-aqt==1.3.0->cirq) (2.0.7)\n",
            "Requirement already satisfied: certifi>=2017.4.17 in /usr/local/lib/python3.10/dist-packages (from requests~=2.18->cirq-aqt==1.3.0->cirq) (2024.2.2)\n",
            "Requirement already satisfied: ipykernel>=4.5.1 in /usr/local/lib/python3.10/dist-packages (from ipywidgets->cirq-ft==1.3.0->cirq) (5.5.6)\n",
            "Requirement already satisfied: ipython-genutils~=0.2.0 in /usr/local/lib/python3.10/dist-packages (from ipywidgets->cirq-ft==1.3.0->cirq) (0.2.0)\n",
            "Requirement already satisfied: traitlets>=4.3.1 in /usr/local/lib/python3.10/dist-packages (from ipywidgets->cirq-ft==1.3.0->cirq) (5.7.1)\n",
            "Requirement already satisfied: widgetsnbextension~=3.6.0 in /usr/local/lib/python3.10/dist-packages (from ipywidgets->cirq-ft==1.3.0->cirq) (3.6.6)\n",
            "Requirement already satisfied: ipython>=4.0.0 in /usr/local/lib/python3.10/dist-packages (from ipywidgets->cirq-ft==1.3.0->cirq) (7.34.0)\n",
            "Requirement already satisfied: jupyterlab-widgets>=1.0.0 in /usr/local/lib/python3.10/dist-packages (from ipywidgets->cirq-ft==1.3.0->cirq) (3.0.10)\n",
            "Requirement already satisfied: lxml in /usr/local/lib/python3.10/dist-packages (from nbconvert->cirq-ft==1.3.0->cirq) (4.9.4)\n",
            "Requirement already satisfied: beautifulsoup4 in /usr/local/lib/python3.10/dist-packages (from nbconvert->cirq-ft==1.3.0->cirq) (4.12.3)\n",
            "Requirement already satisfied: bleach in /usr/local/lib/python3.10/dist-packages (from nbconvert->cirq-ft==1.3.0->cirq) (6.1.0)\n",
            "Requirement already satisfied: defusedxml in /usr/local/lib/python3.10/dist-packages (from nbconvert->cirq-ft==1.3.0->cirq) (0.7.1)\n",
            "Requirement already satisfied: entrypoints>=0.2.2 in /usr/local/lib/python3.10/dist-packages (from nbconvert->cirq-ft==1.3.0->cirq) (0.4)\n",
            "Requirement already satisfied: jinja2>=3.0 in /usr/local/lib/python3.10/dist-packages (from nbconvert->cirq-ft==1.3.0->cirq) (3.1.4)\n",
            "Requirement already satisfied: jupyter-core>=4.7 in /usr/local/lib/python3.10/dist-packages (from nbconvert->cirq-ft==1.3.0->cirq) (5.7.2)\n",
            "Requirement already satisfied: jupyterlab-pygments in /usr/local/lib/python3.10/dist-packages (from nbconvert->cirq-ft==1.3.0->cirq) (0.3.0)\n",
            "Requirement already satisfied: MarkupSafe>=2.0 in /usr/local/lib/python3.10/dist-packages (from nbconvert->cirq-ft==1.3.0->cirq) (2.1.5)\n",
            "Requirement already satisfied: mistune<2,>=0.8.1 in /usr/local/lib/python3.10/dist-packages (from nbconvert->cirq-ft==1.3.0->cirq) (0.8.4)\n",
            "Requirement already satisfied: nbclient>=0.5.0 in /usr/local/lib/python3.10/dist-packages (from nbconvert->cirq-ft==1.3.0->cirq) (0.10.0)\n",
            "Requirement already satisfied: pandocfilters>=1.4.1 in /usr/local/lib/python3.10/dist-packages (from nbconvert->cirq-ft==1.3.0->cirq) (1.5.1)\n",
            "Requirement already satisfied: pygments>=2.4.1 in /usr/local/lib/python3.10/dist-packages (from nbconvert->cirq-ft==1.3.0->cirq) (2.16.1)\n",
            "Requirement already satisfied: tinycss2 in /usr/local/lib/python3.10/dist-packages (from nbconvert->cirq-ft==1.3.0->cirq) (1.3.0)\n",
            "Requirement already satisfied: fastjsonschema>=2.15 in /usr/local/lib/python3.10/dist-packages (from nbformat->cirq-ft==1.3.0->cirq) (2.19.1)\n",
            "Requirement already satisfied: jsonschema>=2.6 in /usr/local/lib/python3.10/dist-packages (from nbformat->cirq-ft==1.3.0->cirq) (4.19.2)\n",
            "Requirement already satisfied: pytz>=2020.1 in /usr/local/lib/python3.10/dist-packages (from pandas->cirq-core==1.3.0->cirq) (2023.4)\n",
            "Requirement already satisfied: tzdata>=2022.1 in /usr/local/lib/python3.10/dist-packages (from pandas->cirq-core==1.3.0->cirq) (2024.1)\n",
            "Requirement already satisfied: mpmath>=0.19 in /usr/local/lib/python3.10/dist-packages (from sympy->cirq-core==1.3.0->cirq) (1.3.0)\n",
            "Requirement already satisfied: wrapt<2,>=1.10 in /usr/local/lib/python3.10/dist-packages (from deprecated<2.0.0,>=1.2.13->pyquil<4.0.0,>=3.2.0->cirq-rigetti==1.3.0->cirq) (1.14.1)\n",
            "Requirement already satisfied: pyasn1-modules>=0.2.1 in /usr/local/lib/python3.10/dist-packages (from google-auth<3.0.dev0,>=2.14.1->google-api-core[grpc]>=1.14.0->cirq-google==1.3.0->cirq) (0.4.0)\n",
            "Requirement already satisfied: rsa<5,>=3.1.4 in /usr/local/lib/python3.10/dist-packages (from google-auth<3.0.dev0,>=2.14.1->google-api-core[grpc]>=1.14.0->cirq-google==1.3.0->cirq) (4.9)\n",
            "Requirement already satisfied: jupyter-client in /usr/local/lib/python3.10/dist-packages (from ipykernel>=4.5.1->ipywidgets->cirq-ft==1.3.0->cirq) (6.1.12)\n",
            "Requirement already satisfied: tornado>=4.2 in /usr/local/lib/python3.10/dist-packages (from ipykernel>=4.5.1->ipywidgets->cirq-ft==1.3.0->cirq) (6.3.3)\n",
            "Requirement already satisfied: setuptools>=18.5 in /usr/local/lib/python3.10/dist-packages (from ipython>=4.0.0->ipywidgets->cirq-ft==1.3.0->cirq) (67.7.2)\n",
            "Collecting jedi>=0.16 (from ipython>=4.0.0->ipywidgets->cirq-ft==1.3.0->cirq)\n",
            "  Downloading jedi-0.19.1-py2.py3-none-any.whl (1.6 MB)\n",
            "\u001b[2K     \u001b[90m━━━━━━━━━━━━━━━━━━━━━━━━━━━━━━━━━━━━━━━━\u001b[0m \u001b[32m1.6/1.6 MB\u001b[0m \u001b[31m25.7 MB/s\u001b[0m eta \u001b[36m0:00:00\u001b[0m\n",
            "\u001b[?25hRequirement already satisfied: decorator in /usr/local/lib/python3.10/dist-packages (from ipython>=4.0.0->ipywidgets->cirq-ft==1.3.0->cirq) (4.4.2)\n",
            "Requirement already satisfied: pickleshare in /usr/local/lib/python3.10/dist-packages (from ipython>=4.0.0->ipywidgets->cirq-ft==1.3.0->cirq) (0.7.5)\n",
            "Requirement already satisfied: prompt-toolkit!=3.0.0,!=3.0.1,<3.1.0,>=2.0.0 in /usr/local/lib/python3.10/dist-packages (from ipython>=4.0.0->ipywidgets->cirq-ft==1.3.0->cirq) (3.0.43)\n",
            "Requirement already satisfied: backcall in /usr/local/lib/python3.10/dist-packages (from ipython>=4.0.0->ipywidgets->cirq-ft==1.3.0->cirq) (0.2.0)\n",
            "Requirement already satisfied: matplotlib-inline in /usr/local/lib/python3.10/dist-packages (from ipython>=4.0.0->ipywidgets->cirq-ft==1.3.0->cirq) (0.1.7)\n",
            "Requirement already satisfied: pexpect>4.3 in /usr/local/lib/python3.10/dist-packages (from ipython>=4.0.0->ipywidgets->cirq-ft==1.3.0->cirq) (4.9.0)\n",
            "Requirement already satisfied: jsonschema-specifications>=2023.03.6 in /usr/local/lib/python3.10/dist-packages (from jsonschema>=2.6->nbformat->cirq-ft==1.3.0->cirq) (2023.12.1)\n",
            "Requirement already satisfied: referencing>=0.28.4 in /usr/local/lib/python3.10/dist-packages (from jsonschema>=2.6->nbformat->cirq-ft==1.3.0->cirq) (0.35.1)\n",
            "Requirement already satisfied: rpds-py>=0.7.1 in /usr/local/lib/python3.10/dist-packages (from jsonschema>=2.6->nbformat->cirq-ft==1.3.0->cirq) (0.18.1)\n",
            "Requirement already satisfied: platformdirs>=2.5 in /usr/local/lib/python3.10/dist-packages (from jupyter-core>=4.7->nbconvert->cirq-ft==1.3.0->cirq) (4.2.2)\n",
            "Requirement already satisfied: six>=1.5 in /usr/local/lib/python3.10/dist-packages (from python-dateutil>=2.7->matplotlib~=3.0->cirq-core==1.3.0->cirq) (1.16.0)\n",
            "Collecting PyJWT<3.0.0,>=2.4.0 (from qcs-api-client<0.22.0,>=0.21.0->pyquil<4.0.0,>=3.2.0->cirq-rigetti==1.3.0->cirq)\n",
            "  Downloading PyJWT-2.8.0-py3-none-any.whl (22 kB)\n",
            "INFO: pip is looking at multiple versions of qcs-api-client to determine which version is compatible with other requirements. This could take a while.\n",
            "Collecting qcs-api-client<0.22.0,>=0.21.0 (from pyquil<4.0.0,>=3.2.0->cirq-rigetti==1.3.0->cirq)\n",
            "  Downloading qcs_api_client-0.21.5-py3-none-any.whl (151 kB)\n",
            "\u001b[2K     \u001b[90m━━━━━━━━━━━━━━━━━━━━━━━━━━━━━━━━━━━━━━━━\u001b[0m \u001b[32m151.7/151.7 kB\u001b[0m \u001b[31m20.4 MB/s\u001b[0m eta \u001b[36m0:00:00\u001b[0m\n",
            "\u001b[?25h  Downloading qcs_api_client-0.21.4-py3-none-any.whl (151 kB)\n",
            "\u001b[2K     \u001b[90m━━━━━━━━━━━━━━━━━━━━━━━━━━━━━━━━━━━━━━━━\u001b[0m \u001b[32m151.7/151.7 kB\u001b[0m \u001b[31m21.3 MB/s\u001b[0m eta \u001b[36m0:00:00\u001b[0m\n",
            "\u001b[?25h  Downloading qcs_api_client-0.21.3-py3-none-any.whl (147 kB)\n",
            "\u001b[2K     \u001b[90m━━━━━━━━━━━━━━━━━━━━━━━━━━━━━━━━━━━━━━━━\u001b[0m \u001b[32m147.4/147.4 kB\u001b[0m \u001b[31m20.7 MB/s\u001b[0m eta \u001b[36m0:00:00\u001b[0m\n",
            "\u001b[?25h  Downloading qcs_api_client-0.21.2-py3-none-any.whl (147 kB)\n",
            "\u001b[2K     \u001b[90m━━━━━━━━━━━━━━━━━━━━━━━━━━━━━━━━━━━━━━━━\u001b[0m \u001b[32m147.4/147.4 kB\u001b[0m \u001b[31m21.9 MB/s\u001b[0m eta \u001b[36m0:00:00\u001b[0m\n",
            "\u001b[?25h  Downloading qcs_api_client-0.21.1-py3-none-any.whl (147 kB)\n",
            "\u001b[2K     \u001b[90m━━━━━━━━━━━━━━━━━━━━━━━━━━━━━━━━━━━━━━━━\u001b[0m \u001b[32m147.4/147.4 kB\u001b[0m \u001b[31m20.0 MB/s\u001b[0m eta \u001b[36m0:00:00\u001b[0m\n",
            "\u001b[?25h  Downloading qcs_api_client-0.21.0-py3-none-any.whl (142 kB)\n",
            "\u001b[2K     \u001b[90m━━━━━━━━━━━━━━━━━━━━━━━━━━━━━━━━━━━━━━━━\u001b[0m \u001b[32m142.7/142.7 kB\u001b[0m \u001b[31m21.1 MB/s\u001b[0m eta \u001b[36m0:00:00\u001b[0m\n",
            "\u001b[?25hCollecting jsonschema>=2.6 (from nbformat->cirq-ft==1.3.0->cirq)\n",
            "  Downloading jsonschema-4.22.0-py3-none-any.whl (88 kB)\n",
            "\u001b[2K     \u001b[90m━━━━━━━━━━━━━━━━━━━━━━━━━━━━━━━━━━━━━━━━\u001b[0m \u001b[32m88.3/88.3 kB\u001b[0m \u001b[31m14.1 MB/s\u001b[0m eta \u001b[36m0:00:00\u001b[0m\n",
            "\u001b[?25hINFO: pip is looking at multiple versions of qcs-api-client to determine which version is compatible with other requirements. This could take a while.\n",
            "INFO: This is taking longer than usual. You might need to provide the dependency resolver with stricter constraints to reduce runtime. See https://pip.pypa.io/warnings/backtracking for guidance. If you want to abort this run, press Ctrl + C.\n",
            "  Downloading jsonschema-4.21.1-py3-none-any.whl (85 kB)\n",
            "\u001b[2K     \u001b[90m━━━━━━━━━━━━━━━━━━━━━━━━━━━━━━━━━━━━━━━━\u001b[0m \u001b[32m85.5/85.5 kB\u001b[0m \u001b[31m13.2 MB/s\u001b[0m eta \u001b[36m0:00:00\u001b[0m\n",
            "\u001b[?25h  Downloading jsonschema-4.21.0-py3-none-any.whl (85 kB)\n",
            "\u001b[2K     \u001b[90m━━━━━━━━━━━━━━━━━━━━━━━━━━━━━━━━━━━━━━━━\u001b[0m \u001b[32m85.1/85.1 kB\u001b[0m \u001b[31m12.2 MB/s\u001b[0m eta \u001b[36m0:00:00\u001b[0m\n",
            "\u001b[?25h  Downloading jsonschema-4.20.0-py3-none-any.whl (84 kB)\n",
            "\u001b[2K     \u001b[90m━━━━━━━━━━━━━━━━━━━━━━━━━━━━━━━━━━━━━━━━\u001b[0m \u001b[32m84.7/84.7 kB\u001b[0m \u001b[31m13.5 MB/s\u001b[0m eta \u001b[36m0:00:00\u001b[0m\n",
            "\u001b[?25h  Downloading jsonschema-4.19.2-py3-none-any.whl (83 kB)\n",
            "\u001b[2K     \u001b[90m━━━━━━━━━━━━━━━━━━━━━━━━━━━━━━━━━━━━━━━━\u001b[0m \u001b[32m83.6/83.6 kB\u001b[0m \u001b[31m12.4 MB/s\u001b[0m eta \u001b[36m0:00:00\u001b[0m\n",
            "\u001b[?25h  Downloading jsonschema-4.19.1-py3-none-any.whl (83 kB)\n",
            "\u001b[2K     \u001b[90m━━━━━━━━━━━━━━━━━━━━━━━━━━━━━━━━━━━━━━━━\u001b[0m \u001b[32m83.3/83.3 kB\u001b[0m \u001b[31m10.3 MB/s\u001b[0m eta \u001b[36m0:00:00\u001b[0m\n",
            "\u001b[?25h  Downloading jsonschema-4.19.0-py3-none-any.whl (83 kB)\n",
            "\u001b[2K     \u001b[90m━━━━━━━━━━━━━━━━━━━━━━━━━━━━━━━━━━━━━━━━\u001b[0m \u001b[32m83.4/83.4 kB\u001b[0m \u001b[31m9.0 MB/s\u001b[0m eta \u001b[36m0:00:00\u001b[0m\n",
            "\u001b[?25h  Downloading jsonschema-4.18.6-py3-none-any.whl (83 kB)\n",
            "\u001b[2K     \u001b[90m━━━━━━━━━━━━━━━━━━━━━━━━━━━━━━━━━━━━━━━━\u001b[0m \u001b[32m83.2/83.2 kB\u001b[0m \u001b[31m10.4 MB/s\u001b[0m eta \u001b[36m0:00:00\u001b[0m\n",
            "\u001b[?25h  Downloading jsonschema-4.18.5-py3-none-any.whl (82 kB)\n",
            "\u001b[2K     \u001b[90m━━━━━━━━━━━━━━━━━━━━━━━━━━━━━━━━━━━━━━━━\u001b[0m \u001b[32m82.5/82.5 kB\u001b[0m \u001b[31m11.1 MB/s\u001b[0m eta \u001b[36m0:00:00\u001b[0m\n",
            "\u001b[?25h  Downloading jsonschema-4.18.4-py3-none-any.whl (80 kB)\n",
            "\u001b[2K     \u001b[90m━━━━━━━━━━━━━━━━━━━━━━━━━━━━━━━━━━━━━━━━\u001b[0m \u001b[32m81.0/81.0 kB\u001b[0m \u001b[31m9.9 MB/s\u001b[0m eta \u001b[36m0:00:00\u001b[0m\n",
            "\u001b[?25h  Downloading jsonschema-4.18.3-py3-none-any.whl (80 kB)\n",
            "\u001b[2K     \u001b[90m━━━━━━━━━━━━━━━━━━━━━━━━━━━━━━━━━━━━━━━━\u001b[0m \u001b[32m81.0/81.0 kB\u001b[0m \u001b[31m10.8 MB/s\u001b[0m eta \u001b[36m0:00:00\u001b[0m\n",
            "\u001b[?25h  Downloading jsonschema-4.18.2-py3-none-any.whl (80 kB)\n",
            "\u001b[2K     \u001b[90m━━━━━━━━━━━━━━━━━━━━━━━━━━━━━━━━━━━━━━━━\u001b[0m \u001b[32m80.8/80.8 kB\u001b[0m \u001b[31m10.9 MB/s\u001b[0m eta \u001b[36m0:00:00\u001b[0m\n",
            "\u001b[?25h  Downloading jsonschema-4.18.1-py3-none-any.whl (80 kB)\n",
            "\u001b[2K     \u001b[90m━━━━━━━━━━━━━━━━━━━━━━━━━━━━━━━━━━━━━━━━\u001b[0m \u001b[32m80.7/80.7 kB\u001b[0m \u001b[31m9.5 MB/s\u001b[0m eta \u001b[36m0:00:00\u001b[0m\n",
            "\u001b[?25h  Downloading jsonschema-4.18.0-py3-none-any.whl (81 kB)\n",
            "\u001b[2K     \u001b[90m━━━━━━━━━━━━━━━━━━━━━━━━━━━━━━━━━━━━━━━━\u001b[0m \u001b[32m81.5/81.5 kB\u001b[0m \u001b[31m10.7 MB/s\u001b[0m eta \u001b[36m0:00:00\u001b[0m\n",
            "\u001b[?25h  Downloading jsonschema-4.17.3-py3-none-any.whl (90 kB)\n",
            "\u001b[2K     \u001b[90m━━━━━━━━━━━━━━━━━━━━━━━━━━━━━━━━━━━━━━━━\u001b[0m \u001b[32m90.4/90.4 kB\u001b[0m \u001b[31m10.1 MB/s\u001b[0m eta \u001b[36m0:00:00\u001b[0m\n",
            "\u001b[?25hCollecting pyrsistent!=0.17.0,!=0.17.1,!=0.17.2,>=0.14.0 (from jsonschema>=2.6->nbformat->cirq-ft==1.3.0->cirq)\n",
            "  Downloading pyrsistent-0.20.0-cp310-cp310-manylinux_2_17_x86_64.manylinux2014_x86_64.whl (117 kB)\n",
            "\u001b[2K     \u001b[90m━━━━━━━━━━━━━━━━━━━━━━━━━━━━━━━━━━━━━━━━\u001b[0m \u001b[32m117.7/117.7 kB\u001b[0m \u001b[31m12.5 MB/s\u001b[0m eta \u001b[36m0:00:00\u001b[0m\n",
            "\u001b[?25hCollecting attrs (from cirq-ft==1.3.0->cirq)\n",
            "  Downloading attrs-21.4.0-py2.py3-none-any.whl (60 kB)\n",
            "\u001b[2K     \u001b[90m━━━━━━━━━━━━━━━━━━━━━━━━━━━━━━━━━━━━━━━━\u001b[0m \u001b[32m60.6/60.6 kB\u001b[0m \u001b[31m7.3 MB/s\u001b[0m eta \u001b[36m0:00:00\u001b[0m\n",
            "\u001b[?25hCollecting httpx<0.24.0,>=0.23.0 (from qcs-api-client<0.22.0,>=0.21.0->pyquil<4.0.0,>=3.2.0->cirq-rigetti==1.3.0->cirq)\n",
            "  Downloading httpx-0.23.3-py3-none-any.whl (71 kB)\n",
            "\u001b[2K     \u001b[90m━━━━━━━━━━━━━━━━━━━━━━━━━━━━━━━━━━━━━━━━\u001b[0m \u001b[32m71.5/71.5 kB\u001b[0m \u001b[31m6.2 MB/s\u001b[0m eta \u001b[36m0:00:00\u001b[0m\n",
            "\u001b[?25hCollecting iso8601<2.0.0,>=1.0.2 (from qcs-api-client<0.22.0,>=0.21.0->pyquil<4.0.0,>=3.2.0->cirq-rigetti==1.3.0->cirq)\n",
            "  Downloading iso8601-1.1.0-py3-none-any.whl (9.9 kB)\n",
            "Collecting pydantic<2.0.0,>=1.7.2 (from qcs-api-client<0.22.0,>=0.21.0->pyquil<4.0.0,>=3.2.0->cirq-rigetti==1.3.0->cirq)\n",
            "  Downloading pydantic-1.10.15-cp310-cp310-manylinux_2_17_x86_64.manylinux2014_x86_64.whl (3.1 MB)\n",
            "\u001b[2K     \u001b[90m━━━━━━━━━━━━━━━━━━━━━━━━━━━━━━━━━━━━━━━━\u001b[0m \u001b[32m3.1/3.1 MB\u001b[0m \u001b[31m30.1 MB/s\u001b[0m eta \u001b[36m0:00:00\u001b[0m\n",
            "\u001b[?25hCollecting retrying<2.0.0,>=1.3.3 (from qcs-api-client<0.22.0,>=0.21.0->pyquil<4.0.0,>=3.2.0->cirq-rigetti==1.3.0->cirq)\n",
            "  Downloading retrying-1.3.4-py3-none-any.whl (11 kB)\n",
            "Collecting rfc3339<7.0,>=6.2 (from qcs-api-client<0.22.0,>=0.21.0->pyquil<4.0.0,>=3.2.0->cirq-rigetti==1.3.0->cirq)\n",
            "  Downloading rfc3339-6.2-py3-none-any.whl (5.5 kB)\n",
            "Requirement already satisfied: toml<0.11.0,>=0.10.2 in /usr/local/lib/python3.10/dist-packages (from qcs-api-client<0.22.0,>=0.21.0->pyquil<4.0.0,>=3.2.0->cirq-rigetti==1.3.0->cirq) (0.10.2)\n",
            "Requirement already satisfied: msgpack<2.0,>=0.6 in /usr/local/lib/python3.10/dist-packages (from rpcq<4.0.0,>=3.10.0->pyquil<4.0.0,>=3.2.0->cirq-rigetti==1.3.0->cirq) (1.0.8)\n",
            "Collecting python-rapidjson (from rpcq<4.0.0,>=3.10.0->pyquil<4.0.0,>=3.2.0->cirq-rigetti==1.3.0->cirq)\n",
            "  Downloading python_rapidjson-1.17-cp310-cp310-manylinux_2_17_x86_64.manylinux2014_x86_64.whl (1.7 MB)\n",
            "\u001b[2K     \u001b[90m━━━━━━━━━━━━━━━━━━━━━━━━━━━━━━━━━━━━━━━━\u001b[0m \u001b[32m1.7/1.7 MB\u001b[0m \u001b[31m34.8 MB/s\u001b[0m eta \u001b[36m0:00:00\u001b[0m\n",
            "\u001b[?25hRequirement already satisfied: pyzmq>=17 in /usr/local/lib/python3.10/dist-packages (from rpcq<4.0.0,>=3.10.0->pyquil<4.0.0,>=3.2.0->cirq-rigetti==1.3.0->cirq) (24.0.1)\n",
            "Collecting ruamel.yaml (from rpcq<4.0.0,>=3.10.0->pyquil<4.0.0,>=3.2.0->cirq-rigetti==1.3.0->cirq)\n",
            "  Downloading ruamel.yaml-0.18.6-py3-none-any.whl (117 kB)\n",
            "\u001b[2K     \u001b[90m━━━━━━━━━━━━━━━━━━━━━━━━━━━━━━━━━━━━━━━━\u001b[0m \u001b[32m117.8/117.8 kB\u001b[0m \u001b[31m16.0 MB/s\u001b[0m eta \u001b[36m0:00:00\u001b[0m\n",
            "\u001b[?25hRequirement already satisfied: notebook>=4.4.1 in /usr/local/lib/python3.10/dist-packages (from widgetsnbextension~=3.6.0->ipywidgets->cirq-ft==1.3.0->cirq) (6.5.5)\n",
            "Requirement already satisfied: soupsieve>1.2 in /usr/local/lib/python3.10/dist-packages (from beautifulsoup4->nbconvert->cirq-ft==1.3.0->cirq) (2.5)\n",
            "Requirement already satisfied: webencodings in /usr/local/lib/python3.10/dist-packages (from bleach->nbconvert->cirq-ft==1.3.0->cirq) (0.5.1)\n",
            "Collecting httpcore<0.17.0,>=0.15.0 (from httpx<0.24.0,>=0.23.0->qcs-api-client<0.22.0,>=0.21.0->pyquil<4.0.0,>=3.2.0->cirq-rigetti==1.3.0->cirq)\n",
            "  Downloading httpcore-0.16.3-py3-none-any.whl (69 kB)\n",
            "\u001b[2K     \u001b[90m━━━━━━━━━━━━━━━━━━━━━━━━━━━━━━━━━━━━━━━━\u001b[0m \u001b[32m69.6/69.6 kB\u001b[0m \u001b[31m9.3 MB/s\u001b[0m eta \u001b[36m0:00:00\u001b[0m\n",
            "\u001b[?25hCollecting rfc3986[idna2008]<2,>=1.3 (from httpx<0.24.0,>=0.23.0->qcs-api-client<0.22.0,>=0.21.0->pyquil<4.0.0,>=3.2.0->cirq-rigetti==1.3.0->cirq)\n",
            "  Downloading rfc3986-1.5.0-py2.py3-none-any.whl (31 kB)\n",
            "Requirement already satisfied: sniffio in /usr/local/lib/python3.10/dist-packages (from httpx<0.24.0,>=0.23.0->qcs-api-client<0.22.0,>=0.21.0->pyquil<4.0.0,>=3.2.0->cirq-rigetti==1.3.0->cirq) (1.3.1)\n",
            "Requirement already satisfied: parso<0.9.0,>=0.8.3 in /usr/local/lib/python3.10/dist-packages (from jedi>=0.16->ipython>=4.0.0->ipywidgets->cirq-ft==1.3.0->cirq) (0.8.4)\n",
            "Requirement already satisfied: argon2-cffi in /usr/local/lib/python3.10/dist-packages (from notebook>=4.4.1->widgetsnbextension~=3.6.0->ipywidgets->cirq-ft==1.3.0->cirq) (23.1.0)\n",
            "Requirement already satisfied: nest-asyncio>=1.5 in /usr/local/lib/python3.10/dist-packages (from notebook>=4.4.1->widgetsnbextension~=3.6.0->ipywidgets->cirq-ft==1.3.0->cirq) (1.6.0)\n",
            "Requirement already satisfied: Send2Trash>=1.8.0 in /usr/local/lib/python3.10/dist-packages (from notebook>=4.4.1->widgetsnbextension~=3.6.0->ipywidgets->cirq-ft==1.3.0->cirq) (1.8.3)\n",
            "Requirement already satisfied: terminado>=0.8.3 in /usr/local/lib/python3.10/dist-packages (from notebook>=4.4.1->widgetsnbextension~=3.6.0->ipywidgets->cirq-ft==1.3.0->cirq) (0.18.1)\n",
            "Requirement already satisfied: prometheus-client in /usr/local/lib/python3.10/dist-packages (from notebook>=4.4.1->widgetsnbextension~=3.6.0->ipywidgets->cirq-ft==1.3.0->cirq) (0.20.0)\n",
            "Requirement already satisfied: nbclassic>=0.4.7 in /usr/local/lib/python3.10/dist-packages (from notebook>=4.4.1->widgetsnbextension~=3.6.0->ipywidgets->cirq-ft==1.3.0->cirq) (1.0.0)\n",
            "Requirement already satisfied: ptyprocess>=0.5 in /usr/local/lib/python3.10/dist-packages (from pexpect>4.3->ipython>=4.0.0->ipywidgets->cirq-ft==1.3.0->cirq) (0.7.0)\n",
            "Requirement already satisfied: wcwidth in /usr/local/lib/python3.10/dist-packages (from prompt-toolkit!=3.0.0,!=3.0.1,<3.1.0,>=2.0.0->ipython>=4.0.0->ipywidgets->cirq-ft==1.3.0->cirq) (0.2.13)\n",
            "Requirement already satisfied: pyasn1<0.7.0,>=0.4.6 in /usr/local/lib/python3.10/dist-packages (from pyasn1-modules>=0.2.1->google-auth<3.0.dev0,>=2.14.1->google-api-core[grpc]>=1.14.0->cirq-google==1.3.0->cirq) (0.6.0)\n",
            "Collecting ruamel.yaml.clib>=0.2.7 (from ruamel.yaml->rpcq<4.0.0,>=3.10.0->pyquil<4.0.0,>=3.2.0->cirq-rigetti==1.3.0->cirq)\n",
            "  Downloading ruamel.yaml.clib-0.2.8-cp310-cp310-manylinux_2_17_x86_64.manylinux2014_x86_64.manylinux_2_24_x86_64.whl (526 kB)\n",
            "\u001b[2K     \u001b[90m━━━━━━━━━━━━━━━━━━━━━━━━━━━━━━━━━━━━━━━━\u001b[0m \u001b[32m526.7/526.7 kB\u001b[0m \u001b[31m28.9 MB/s\u001b[0m eta \u001b[36m0:00:00\u001b[0m\n",
            "\u001b[?25hCollecting h11<0.15,>=0.13 (from httpcore<0.17.0,>=0.15.0->httpx<0.24.0,>=0.23.0->qcs-api-client<0.22.0,>=0.21.0->pyquil<4.0.0,>=3.2.0->cirq-rigetti==1.3.0->cirq)\n",
            "  Downloading h11-0.14.0-py3-none-any.whl (58 kB)\n",
            "\u001b[2K     \u001b[90m━━━━━━━━━━━━━━━━━━━━━━━━━━━━━━━━━━━━━━━━\u001b[0m \u001b[32m58.3/58.3 kB\u001b[0m \u001b[31m7.6 MB/s\u001b[0m eta \u001b[36m0:00:00\u001b[0m\n",
            "\u001b[?25hRequirement already satisfied: anyio<5.0,>=3.0 in /usr/local/lib/python3.10/dist-packages (from httpcore<0.17.0,>=0.15.0->httpx<0.24.0,>=0.23.0->qcs-api-client<0.22.0,>=0.21.0->pyquil<4.0.0,>=3.2.0->cirq-rigetti==1.3.0->cirq) (3.7.1)\n",
            "Requirement already satisfied: jupyter-server>=1.8 in /usr/local/lib/python3.10/dist-packages (from nbclassic>=0.4.7->notebook>=4.4.1->widgetsnbextension~=3.6.0->ipywidgets->cirq-ft==1.3.0->cirq) (1.24.0)\n",
            "Requirement already satisfied: notebook-shim>=0.2.3 in /usr/local/lib/python3.10/dist-packages (from nbclassic>=0.4.7->notebook>=4.4.1->widgetsnbextension~=3.6.0->ipywidgets->cirq-ft==1.3.0->cirq) (0.2.4)\n",
            "Requirement already satisfied: argon2-cffi-bindings in /usr/local/lib/python3.10/dist-packages (from argon2-cffi->notebook>=4.4.1->widgetsnbextension~=3.6.0->ipywidgets->cirq-ft==1.3.0->cirq) (21.2.0)\n",
            "Requirement already satisfied: exceptiongroup in /usr/local/lib/python3.10/dist-packages (from anyio<5.0,>=3.0->httpcore<0.17.0,>=0.15.0->httpx<0.24.0,>=0.23.0->qcs-api-client<0.22.0,>=0.21.0->pyquil<4.0.0,>=3.2.0->cirq-rigetti==1.3.0->cirq) (1.2.1)\n",
            "Requirement already satisfied: websocket-client in /usr/local/lib/python3.10/dist-packages (from jupyter-server>=1.8->nbclassic>=0.4.7->notebook>=4.4.1->widgetsnbextension~=3.6.0->ipywidgets->cirq-ft==1.3.0->cirq) (1.8.0)\n",
            "Requirement already satisfied: cffi>=1.0.1 in /usr/local/lib/python3.10/dist-packages (from argon2-cffi-bindings->argon2-cffi->notebook>=4.4.1->widgetsnbextension~=3.6.0->ipywidgets->cirq-ft==1.3.0->cirq) (1.16.0)\n",
            "Requirement already satisfied: pycparser in /usr/local/lib/python3.10/dist-packages (from cffi>=1.0.1->argon2-cffi-bindings->argon2-cffi->notebook>=4.4.1->widgetsnbextension~=3.6.0->ipywidgets->cirq-ft==1.3.0->cirq) (2.22)\n",
            "Building wheels for collected packages: lark, rpcq\n",
            "  Building wheel for lark (setup.py) ... \u001b[?25l\u001b[?25hdone\n",
            "  Created wheel for lark: filename=lark-0.11.3-py2.py3-none-any.whl size=99630 sha256=1b79cd47ea154332551a510d5a17467beb8c2bf2bc1018905cde5b7f6b97274e\n",
            "  Stored in directory: /root/.cache/pip/wheels/7d/72/22/a2dbd112cf05c55adf2e1ead5fba8aa527b848f01cdd99687c\n",
            "  Building wheel for rpcq (setup.py) ... \u001b[?25l\u001b[?25hdone\n",
            "  Created wheel for rpcq: filename=rpcq-3.11.0-py3-none-any.whl size=45967 sha256=c8e6a0f3eaf7c2e894b8685d2d1e4d0428929cf598fdaa2504da5ba1de9e4435\n",
            "  Stored in directory: /root/.cache/pip/wheels/91/97/0a/b384d94155345284ec00712ab814cbfb5bc2b631080b4fa4c3\n",
            "Successfully built lark rpcq\n",
            "Installing collected packages: types-retry, rfc3986, rfc3339, lark, types-python-dateutil, types-deprecated, ruamel.yaml.clib, retrying, python-rapidjson, pyrsistent, PyJWT, pydantic, jedi, iso8601, h11, duet, deprecated, attrs, ruamel.yaml, jsonschema, httpcore, rpcq, httpx, cirq-core, qcs-api-client, cirq-web, cirq-pasqal, cirq-ionq, cirq-aqt, pyquil, cirq-google, cirq-rigetti, cirq-ft, cirq\n",
            "  Attempting uninstall: PyJWT\n",
            "    Found existing installation: PyJWT 2.3.0\n",
            "    Uninstalling PyJWT-2.3.0:\n",
            "      Successfully uninstalled PyJWT-2.3.0\n",
            "  Attempting uninstall: pydantic\n",
            "    Found existing installation: pydantic 2.7.1\n",
            "    Uninstalling pydantic-2.7.1:\n",
            "      Successfully uninstalled pydantic-2.7.1\n",
            "  Attempting uninstall: attrs\n",
            "    Found existing installation: attrs 23.2.0\n",
            "    Uninstalling attrs-23.2.0:\n",
            "      Successfully uninstalled attrs-23.2.0\n",
            "  Attempting uninstall: jsonschema\n",
            "    Found existing installation: jsonschema 4.19.2\n",
            "    Uninstalling jsonschema-4.19.2:\n",
            "      Successfully uninstalled jsonschema-4.19.2\n",
            "\u001b[31mERROR: pip's dependency resolver does not currently take into account all the packages that are installed. This behaviour is the source of the following dependency conflicts.\n",
            "referencing 0.35.1 requires attrs>=22.2.0, but you have attrs 21.4.0 which is incompatible.\u001b[0m\u001b[31m\n",
            "\u001b[0mSuccessfully installed PyJWT-2.8.0 attrs-21.4.0 cirq-1.3.0 cirq-aqt-1.3.0 cirq-core-1.3.0 cirq-ft-1.3.0 cirq-google-1.3.0 cirq-ionq-1.3.0 cirq-pasqal-1.3.0 cirq-rigetti-1.3.0 cirq-web-1.3.0 deprecated-1.2.14 duet-0.2.9 h11-0.14.0 httpcore-0.16.3 httpx-0.23.3 iso8601-1.1.0 jedi-0.19.1 jsonschema-4.17.3 lark-0.11.3 pydantic-1.10.15 pyquil-3.5.4 pyrsistent-0.20.0 python-rapidjson-1.17 qcs-api-client-0.21.6 retrying-1.3.4 rfc3339-6.2 rfc3986-1.5.0 rpcq-3.11.0 ruamel.yaml-0.18.6 ruamel.yaml.clib-0.2.8 types-deprecated-1.2.9.20240311 types-python-dateutil-2.9.0.20240316 types-retry-0.9.9.4\n"
          ]
        }
      ],
      "source": [
        "!pip install cirq\n"
      ]
    },
    {
      "cell_type": "code",
      "execution_count": 3,
      "metadata": {
        "id": "nhGlp2GIgNiS"
      },
      "outputs": [],
      "source": [
        "import cirq\n",
        "import time"
      ]
    },
    {
      "cell_type": "markdown",
      "metadata": {
        "id": "DCF88adexVoz"
      },
      "source": [
        "Definir o número de qubits:"
      ]
    },
    {
      "cell_type": "code",
      "execution_count": 4,
      "metadata": {
        "id": "tM6H5ZLnxWkj"
      },
      "outputs": [],
      "source": [
        "# Definir o número de qubits:\n",
        "num_qubits = 5  # 2 para os números binários e 2 para o resultado\n"
      ]
    },
    {
      "cell_type": "markdown",
      "metadata": {
        "id": "WeTPfZWIxaDL"
      },
      "source": [
        "Criar os registradores quânticos e clássicos:"
      ]
    },
    {
      "cell_type": "code",
      "execution_count": 5,
      "metadata": {
        "id": "7wZRDpWtxc-G"
      },
      "outputs": [],
      "source": [
        "# Criar os registradores quânticos e clássicos:\n",
        "qubits = cirq.LineQubit.range(num_qubits)\n",
        "\n"
      ]
    },
    {
      "cell_type": "markdown",
      "metadata": {
        "id": "HVInFwZoxdoT"
      },
      "source": [
        "Criar o circuito quântico:"
      ]
    },
    {
      "cell_type": "code",
      "execution_count": 6,
      "metadata": {
        "id": "tZhjbzNRxe2o"
      },
      "outputs": [],
      "source": [
        "circuit = cirq.Circuit()"
      ]
    },
    {
      "cell_type": "markdown",
      "metadata": {
        "id": "iMO4mNCAxuet"
      },
      "source": [
        "Adicionar as operações quânticas:"
      ]
    },
    {
      "cell_type": "code",
      "execution_count": 7,
      "metadata": {
        "id": "C7cwtgcuxu4k"
      },
      "outputs": [],
      "source": [
        "circuit.append(cirq.CNOT(qubits[0], qubits[2]))\n",
        "circuit.append(cirq.CNOT(qubits[1], qubits[2]))\n",
        "circuit.append(cirq.CNOT(qubits[1], qubits[3]))\n",
        "circuit.append(cirq.CNOT(qubits[3], qubits[4]))\n",
        "circuit.append(cirq.CNOT(qubits[0], qubits[4]))\n",
        "circuit.append(cirq.CNOT(qubits[4], qubits[3]))\n"
      ]
    },
    {
      "cell_type": "markdown",
      "source": [
        "Medição dos resultados:\n"
      ],
      "metadata": {
        "id": "sBrP_oXZI1uk"
      }
    },
    {
      "cell_type": "code",
      "source": [
        "circuit.append(cirq.measure(*qubits, key='result'))\n"
      ],
      "metadata": {
        "id": "6KJvAg4PI5NM"
      },
      "execution_count": 8,
      "outputs": []
    },
    {
      "cell_type": "markdown",
      "metadata": {
        "id": "amoFNFokx5NO"
      },
      "source": [
        "Visualizar o circuito quântico:"
      ]
    },
    {
      "cell_type": "code",
      "execution_count": 9,
      "metadata": {
        "colab": {
          "base_uri": "https://localhost:8080/"
        },
        "id": "q7HX3Aaox5_z",
        "outputId": "0f8a6393-6a54-4cb5-80b3-f08e91f9578c"
      },
      "outputs": [
        {
          "output_type": "stream",
          "name": "stdout",
          "text": [
            "Circuito Quântico:\n",
            "0: ───@───────────────@───────M('result')───\n",
            "      │               │       │\n",
            "1: ───┼───@───@───────┼───────M─────────────\n",
            "      │   │   │       │       │\n",
            "2: ───X───X───┼───────┼───────M─────────────\n",
            "              │       │       │\n",
            "3: ───────────X───@───┼───X───M─────────────\n",
            "                  │   │   │   │\n",
            "4: ───────────────X───X───@───M─────────────\n"
          ]
        }
      ],
      "source": [
        "print(\"Circuito Quântico:\")\n",
        "print(circuit)"
      ]
    },
    {
      "cell_type": "markdown",
      "metadata": {
        "id": "7G_Syie3x7_G"
      },
      "source": [
        "Execução do Circuito Quântico\n",
        "\n",
        "Simular o circuito quântico:"
      ]
    },
    {
      "cell_type": "code",
      "execution_count": 10,
      "metadata": {
        "id": "kfy2xJNM2Xjr"
      },
      "outputs": [],
      "source": [
        "simulator = cirq.Simulator()\n",
        "start_time = time.time()\n",
        "result = simulator.run(circuit, repetitions=1000)\n",
        "end_time = time.time()\n"
      ]
    },
    {
      "cell_type": "markdown",
      "source": [
        "Tempo de simulação em segundos:"
      ],
      "metadata": {
        "id": "xPbu6mP5ugDd"
      }
    },
    {
      "cell_type": "code",
      "source": [
        "simulation_time = end_time - start_time\n",
        "print(f\"\\nTempo de Simulação: {simulation_time} segundos\")"
      ],
      "metadata": {
        "colab": {
          "base_uri": "https://localhost:8080/"
        },
        "id": "gO6ICw2CuhYy",
        "outputId": "e9798fe9-640b-45fe-c9b5-cd4487216533"
      },
      "execution_count": 11,
      "outputs": [
        {
          "output_type": "stream",
          "name": "stdout",
          "text": [
            "\n",
            "Tempo de Simulação: 0.017095327377319336 segundos\n"
          ]
        }
      ]
    },
    {
      "cell_type": "markdown",
      "metadata": {
        "id": "gF5B-_Y6yFX_"
      },
      "source": [
        "Imprimir os resultados:"
      ]
    },
    {
      "cell_type": "code",
      "execution_count": 12,
      "metadata": {
        "id": "rdd5awpjyF7E",
        "colab": {
          "base_uri": "https://localhost:8080/"
        },
        "outputId": "39d94121-ea4f-4f83-d843-8a357489e736"
      },
      "outputs": [
        {
          "output_type": "stream",
          "name": "stdout",
          "text": [
            "\n",
            "Resultados da Simulação (Histograma):\n",
            "Counter({0: 1000})\n"
          ]
        }
      ],
      "source": [
        "print(\"\\nResultados da Simulação (Histograma):\")\n",
        "histogram = result.histogram(key='result')\n",
        "print(histogram)\n"
      ]
    },
    {
      "cell_type": "code",
      "source": [
        "print(\"\\nResultados Interpretados:\")\n",
        "for bitstring, count in sorted(histogram.items()):\n",
        "    binary_result = format(bitstring, f'0{num_qubits}b')  # Formatar como binário\n",
        "    print(f\"{binary_result}: {count} vezes\")"
      ],
      "metadata": {
        "colab": {
          "base_uri": "https://localhost:8080/"
        },
        "id": "kSChhnSJp-Bf",
        "outputId": "79830758-56c7-41c1-8def-f638b7412602"
      },
      "execution_count": 13,
      "outputs": [
        {
          "output_type": "stream",
          "name": "stdout",
          "text": [
            "\n",
            "Resultados Interpretados:\n",
            "00000: 1000 vezes\n"
          ]
        }
      ]
    },
    {
      "cell_type": "markdown",
      "source": [
        "Pesquisar tempos típicos para as portas quânticas em hardware real\n",
        "\n",
        "Por exemplo, assumindo os seguintes tempos (em nanosegundos):"
      ],
      "metadata": {
        "id": "YyDDPofRvBng"
      }
    },
    {
      "cell_type": "code",
      "source": [
        "time_cnot = 200  # Tempo típico de uma porta CNOT"
      ],
      "metadata": {
        "id": "PxU9hil6vFhv"
      },
      "execution_count": 14,
      "outputs": []
    },
    {
      "cell_type": "markdown",
      "source": [
        "Calcular o tempo total de execução:"
      ],
      "metadata": {
        "id": "aHv3zd8ovK0t"
      }
    },
    {
      "cell_type": "code",
      "source": [
        "num_cnot = 6  # Número de portas CNOT no circuito\n",
        "total_time_ns = num_cnot * time_cnot"
      ],
      "metadata": {
        "id": "sfiQuDfZvOqe"
      },
      "execution_count": 15,
      "outputs": []
    },
    {
      "cell_type": "markdown",
      "source": [
        "Converter o tempo total para segundos:"
      ],
      "metadata": {
        "id": "th4W89pRvSUH"
      }
    },
    {
      "cell_type": "code",
      "source": [
        "total_time_s = total_time_ns / 1e9\n",
        "print(f\"\\nEstimativa de Tempo no Computador Quântico Real: {total_time_s} segundos\")"
      ],
      "metadata": {
        "colab": {
          "base_uri": "https://localhost:8080/"
        },
        "id": "7v8wvo8hvUBC",
        "outputId": "6e4b0620-4e17-4f10-a400-d41ac0fb6bca"
      },
      "execution_count": 16,
      "outputs": [
        {
          "output_type": "stream",
          "name": "stdout",
          "text": [
            "\n",
            "Estimativa de Tempo no Computador Quântico Real: 1.2e-06 segundos\n"
          ]
        }
      ]
    },
    {
      "cell_type": "markdown",
      "metadata": {
        "id": "4fSoZ63YyGNI"
      },
      "source": [
        "Exemplo de execução:"
      ]
    },
    {
      "cell_type": "code",
      "source": [
        "import cirq\n",
        "import time\n",
        "\n",
        "# Definir o número de qubits:\n",
        "num_qubits = 5  # 4 qubits para as entradas e 1 qubit auxiliar para a carry\n",
        "\n",
        "# Criar os qubits:\n",
        "qubits = cirq.LineQubit.range(num_qubits)\n",
        "\n",
        "# Criar o circuito quântico:\n",
        "circuit = cirq.Circuit()\n",
        "\n",
        "# Adicionar as operações quânticas para a subtração binária\n",
        "# As operações serão baseadas na tabela fornecida\n",
        "circuit.append(cirq.CNOT(qubits[0], qubits[2]))\n",
        "circuit.append(cirq.CNOT(qubits[1], qubits[2]))\n",
        "circuit.append(cirq.CNOT(qubits[1], qubits[3]))\n",
        "circuit.append(cirq.CNOT(qubits[3], qubits[4]))\n",
        "circuit.append(cirq.CNOT(qubits[0], qubits[4]))\n",
        "circuit.append(cirq.CNOT(qubits[4], qubits[3]))\n",
        "\n",
        "# Medição dos resultados\n",
        "circuit.append(cirq.measure(*qubits, key='result'))\n",
        "\n",
        "# Visualizar o circuito quântico:\n",
        "print(\"Circuito Quântico:\")\n",
        "print(circuit)\n",
        "\n",
        "#Simular o circuito quântico:\n",
        "simulator = cirq.Simulator()\n",
        "result = simulator.run(circuit, repetitions=1000)\n",
        "\n",
        "#Imprimir os resultados:\n",
        "print(\"\\nResultados da Simulação:\")\n",
        "print(result.histogram(key='result'))\n"
      ],
      "metadata": {
        "colab": {
          "base_uri": "https://localhost:8080/"
        },
        "id": "vgE7Quukl_7v",
        "outputId": "b66b8d28-9d01-4d28-b820-9daba89a82bd"
      },
      "execution_count": 17,
      "outputs": [
        {
          "output_type": "stream",
          "name": "stdout",
          "text": [
            "Circuito Quântico:\n",
            "0: ───@───────────────@───────M('result')───\n",
            "      │               │       │\n",
            "1: ───┼───@───@───────┼───────M─────────────\n",
            "      │   │   │       │       │\n",
            "2: ───X───X───┼───────┼───────M─────────────\n",
            "              │       │       │\n",
            "3: ───────────X───@───┼───X───M─────────────\n",
            "                  │   │   │   │\n",
            "4: ───────────────X───X───@───M─────────────\n",
            "\n",
            "Resultados da Simulação:\n",
            "Counter({0: 1000})\n"
          ]
        }
      ]
    },
    {
      "cell_type": "markdown",
      "metadata": {
        "id": "tXGmNB1qyRKn"
      },
      "source": [
        "Explicação do Código:\n",
        "\n",
        "____\n",
        "\n",
        "O código utiliza a biblioteca Cirq para construir e simular um circuito quântico que realiza a subtração de números binários.\n",
        "\n",
        "Aqui estão as etapas realizadas:\n",
        "___\n",
        "1. Definição dos Qubits\n",
        "Descrição: Define o número total de qubits que serão utilizados no circuito. Utilizamos 5 qubits no total: 2 para representar os números binários de entrada, 2 para armazenar os resultados e 1 qubit auxiliar para operações intermediárias.\n",
        "____\n",
        "2. Criação dos Registradores Quânticos\n",
        "Descrição:\n",
        "\n",
        "Cria os qubits necessários para o circuito utilizando cirq.LineQubit. A função range(num_qubits) cria uma lista de qubits indexados de 0 a num_qubits - 1.\n",
        "\n",
        "____\n",
        "3. Criação do Circuito Quântico:\n",
        "\n",
        "Inicializa um circuito quântico vazio que irá conter todas as operações quânticas necessárias para a subtração binária.\n",
        "____\n",
        "4. Adição das Operações Quânticas:\n",
        "\n",
        "Adiciona operações quânticas ao circuito.\n",
        "\n",
        "As operações CNOT são utilizadas para manipular os estados dos qubits de acordo com a lógica de subtração binária.\n",
        "\n",
        "Cada CNOT é definida por dois qubits:\n",
        "\n",
        "um de controle e um por alvo.\n",
        "____\n",
        "5. Medição dos Resultados:\n",
        "\n",
        "\n",
        "Adiciona operações de medição ao circuito.\n",
        "\n",
        "Todos os qubits são medidos, e os resultados são armazenados em uma chave chamada 'result'.\n",
        "_____\n",
        "6. Visualização do Circuito Quântico:\n",
        "\n",
        "\n",
        "Imprime a estrutura do circuito quântico no console para facilitar a compreensão visual de todas as operações quânticas configuradas.\n",
        "____\n",
        "7. Execução do Circuito Quântico:\n",
        "\n",
        "\n",
        "Cria um simulador quântico utilizando cirq.Simulator() e executa o circuito 1000 vezes.\n",
        "\n",
        "A simulação permite obter uma distribuição estatística dos resultados e o tempo de simulação é medido.\n",
        "____\n",
        "\n",
        "8. Impressão dos Resultados:\n",
        "\n",
        "\n",
        "Primeiro, imprime o histograma dos resultados das medições, que mostra a frequência de cada possível resultado binário.\n",
        "\n",
        "Depois, interpreta esses resultados imprimindo-os de forma legível, onde cada resultado binário é formatado para ter o comprimento adequado e acompanhado pelo número de ocorrências na simulação.\n",
        "____\n",
        "9. Estimativa do Tempo no Computador Quântico Real:\n",
        "\n",
        " Calcula o tempo total de execução das portas CNOT no circuito com base em tempos típicos encontrados para hardware quântico real (200 ns para uma porta CNOT) e converte o resultado para segundos.\n",
        "\n",
        "____\n",
        "\n",
        "Observações:\n",
        "\n",
        "Este código é um exemplo básico de como construir e simular um subtrator quântico utilizando Cirq.\n",
        "____\n",
        "O código pode ser modificado para trabalhar com diferentes tamanhos de números binários ajustando o número de qubits e as operações quânticas.\n",
        "____\n",
        "Cirq fornece ferramentas robustas para construir, visualizar e simular circuitos quânticos, facilitando a exploração de algoritmos quânticos mais complexos.\n",
        "____\n",
        "Recursos Adicionais:\n",
        "\n",
        "Documentação do Cirq: Guia e referências completas para a biblioteca Cirq.\n",
        "Tutoriais do Cirq: Exemplos e tutoriais para aprender a usar o Cirq de maneira mais eficiente.\n",
        "____\n",
        "Conclusão:\n",
        "\n",
        "Esta tarefa demonstra como construir um circuito quântico para realizar a subtração de números binários utilizando a biblioteca Cirq. O código fornecido serve como ponto de partida para explorar os recursos do Cirq e criar circuitos quânticos mais avançados.\n",
        "____\n",
        "Verificação com os Requisitos do Professor:\n",
        "\n",
        "Então fiz a simulação com Cirq e mediu o tempo de execução e hardware quântico real."
      ]
    },
    {
      "cell_type": "markdown",
      "metadata": {
        "id": "peID4Q6OzMrY"
      },
      "source": [
        "Nome:  \n",
        "\n",
        "Victor Hugo de Souza Martins\n",
        "___\n",
        "\n",
        "RM:\n",
        "\n",
        "99591\n",
        "___\n",
        "\n",
        "Turma:  \n",
        "\n",
        "2TIAR\n",
        "___\n",
        "Data de finalização do CP:\n",
        "\n",
        "23/05/2024\n",
        "___"
      ]
    },
    {
      "cell_type": "markdown",
      "source": [
        "Executa esse código para baixar a imagem do circuito:"
      ],
      "metadata": {
        "id": "nwROyr8nb4Lt"
      }
    },
    {
      "cell_type": "code",
      "source": [
        "import matplotlib.pyplot as plt\n",
        "\n",
        "\n",
        "\n",
        "circuit_diagram = circuit.to_text_diagram()\n",
        "\n",
        "\n",
        "plt.figure(figsize=(10, 5))\n",
        "plt.text(0.5, 0.5, circuit_diagram, fontsize=12, va='center', ha='center')\n",
        "plt.axis('off')\n",
        "plt.savefig(\"circuito_quântico.png\")\n"
      ],
      "metadata": {
        "colab": {
          "base_uri": "https://localhost:8080/",
          "height": 422
        },
        "id": "zQOFln7wb35e",
        "outputId": "fa9017e8-3fee-4591-e120-e8806bcb5360"
      },
      "execution_count": 18,
      "outputs": [
        {
          "output_type": "display_data",
          "data": {
            "text/plain": [
              "<Figure size 1000x500 with 1 Axes>"
            ],
            "image/png": "[encoded data removed]"
          },
          "metadata": {}
        }
      ]
    }
  ],
  "metadata": {
    "colab": {
      "provenance": []
    },
    "kernelspec": {
      "display_name": "Python 3",
      "name": "python3"
    },
    "language_info": {
      "codemirror_mode": {
        "name": "ipython",
        "version": 3
      },
      "file_extension": ".py",
      "mimetype": "text/x-python",
      "name": "python",
      "nbconvert_exporter": "python",
      "pygments_lexer": "ipython3",
      "version": "3.12.2"
    }
  },
  "nbformat": 4,
  "nbformat_minor": 0
}